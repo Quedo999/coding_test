{
 "cells": [
  {
   "cell_type": "markdown",
   "metadata": {},
   "source": [
    "- 182 page"
   ]
  },
  {
   "cell_type": "code",
   "execution_count": 2,
   "metadata": {},
   "outputs": [
    {
     "name": "stdout",
     "output_type": "stream",
     "text": [
      "26\n"
     ]
    }
   ],
   "source": [
    "n, k = map(int, input().split())\n",
    "array_a = list(map(int, input().split()))\n",
    "array_b = list(map(int, input().split()))\n",
    "\n",
    "for _ in range(k):\n",
    "    array_a.sort()\n",
    "    array_b.sort(reverse=True)\n",
    "    array_a[0], array_b[0] = array_b[0], array_a[0]\n",
    "\n",
    "print(sum(array_a))"
   ]
  },
  {
   "cell_type": "code",
   "execution_count": null,
   "metadata": {},
   "outputs": [],
   "source": [
    "# 답안 예시\n",
    "n, k = map(int, input().split())    # N과 K를 입력받기\n",
    "a = list(map(int, input().split())) # 배열 A의 모든 원소를 입력받기\n",
    "b = list(map(int, input().split())) # 배열 B의 모든 원소를 입력받기\n",
    "\n",
    "a.sort() # 배열 A는 오름차순\n",
    "b.sort(reverse=True) # 배열 B는 내림차순\n",
    "\n",
    "# 첫번째 인덱스부터 확인하며, 두 배열의 원소를 최대 K번 비교\n",
    "for i in range(k):\n",
    "    # A의 원소가 B의 원소보다 작은 경우\n",
    "    if a[i] < b[i]:\n",
    "        # 두 원소를 교체\n",
    "        a[i], b[i] = b[i], a[i]\n",
    "    else:   # A의 원소가 B의 원소보다 크거나 같을 때, 반복문을 탈출\n",
    "        break\n",
    "\n",
    "print(sum(a)) # 배열 A의 모든 원소의 합을 출력"
   ]
  }
 ],
 "metadata": {
  "interpreter": {
   "hash": "9e5ba8102417ed24000ae30d0ee823b0df91ab90972766c536e2f5d51ee26514"
  },
  "kernelspec": {
   "display_name": "Python 3.9.7 64-bit ('study': conda)",
   "language": "python",
   "name": "python3"
  },
  "language_info": {
   "codemirror_mode": {
    "name": "ipython",
    "version": 3
   },
   "file_extension": ".py",
   "mimetype": "text/x-python",
   "name": "python",
   "nbconvert_exporter": "python",
   "pygments_lexer": "ipython3",
   "version": "3.9.7"
  },
  "orig_nbformat": 4
 },
 "nbformat": 4,
 "nbformat_minor": 2
}
