{
 "cells": [
  {
   "cell_type": "code",
   "execution_count": 10,
   "id": "5f382e8c",
   "metadata": {},
   "outputs": [
    {
     "name": "stdout",
     "output_type": "stream",
     "text": [
      "5 8 3\n",
      "2 4 5 4 6\n",
      "46\n"
     ]
    }
   ],
   "source": [
    "n, m, k = map(int, input().split())\n",
    "data = list(map(int, input().split()))\n",
    "result = 0\n",
    "big_cnt = 0\n",
    "\n",
    "data.sort(reverse=True)\n",
    "\n",
    "big1 = data[0]\n",
    "big2 = data[1]\n",
    "\n",
    "big_cnt = (m // (k+1)) * k + (m % (k+1))\n",
    "\n",
    "result += big1 * big_cnt\n",
    "result += (m - big_cnt) * big2\n",
    "\n",
    "print(result)"
   ]
  },
  {
   "cell_type": "code",
   "execution_count": null,
   "id": "b931e3be",
   "metadata": {},
   "outputs": [],
   "source": []
  }
 ],
 "metadata": {
  "kernelspec": {
   "display_name": "Python 3 (ipykernel)",
   "language": "python",
   "name": "python3"
  },
  "language_info": {
   "codemirror_mode": {
    "name": "ipython",
    "version": 3
   },
   "file_extension": ".py",
   "mimetype": "text/x-python",
   "name": "python",
   "nbconvert_exporter": "python",
   "pygments_lexer": "ipython3",
   "version": "3.10.2"
  }
 },
 "nbformat": 4,
 "nbformat_minor": 5
}
