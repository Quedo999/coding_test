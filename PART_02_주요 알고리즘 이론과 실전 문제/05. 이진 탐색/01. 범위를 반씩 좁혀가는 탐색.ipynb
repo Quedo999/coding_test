{
 "cells": [
  {
   "cell_type": "markdown",
   "metadata": {},
   "source": [
    "# 순차 탐색\n",
    "- 리스트 안에 있는 특정한 데이터를 찾기 위해 앞에서부터 데이터를 하나 씩 차례대로 확인하는 방법\n",
    "- 보통 정렬되지 않은 리스트에서 데이터를 찾아야 할 때 사용.\n",
    "- 리스트 내에 데이터가 아무리 많아도 시간만 충분하다면 항상 원하는 원소를 찾을 수 있다.\n",
    "- 리스트 자료형에서 특정한 값을 가지는 원소의 개수를 세는 count() 메서드를 이용할 때도 내부에서 순차 탐색이 수행됨.\n",
    "- 순차 탐색은 데이터 정렬 여부와 상관없이 가장 앞에 있는 원소부터 하나씩 확인해야 한다는 점이 특징\n",
    "- 따라서 데이터의 개수가 N개일 때 최대 N번의 비교 연산이 필요. 즉 순차 탐색의 최악의 경우 시간 복잡도는 O(N)이다."
   ]
  },
  {
   "cell_type": "code",
   "execution_count": 14,
   "metadata": {},
   "outputs": [
    {
     "name": "stdout",
     "output_type": "stream",
     "text": [
      "생성할 원소 개수를 입력한 다음 한 칸 띄고 찾을 문자열을 입력하세요.\n"
     ]
    },
    {
     "ename": "IndexError",
     "evalue": "list index out of range",
     "output_type": "error",
     "traceback": [
      "\u001b[0;31m---------------------------------------------------------------------------\u001b[0m",
      "\u001b[0;31mIndexError\u001b[0m                                Traceback (most recent call last)",
      "\u001b[0;32m/var/folders/bq/y95w3xxj763cn4hv73j3d6ym0000gn/T/ipykernel_11912/3352817785.py\u001b[0m in \u001b[0;36m<module>\u001b[0;34m\u001b[0m\n\u001b[1;32m      9\u001b[0m \u001b[0mprint\u001b[0m\u001b[0;34m(\u001b[0m\u001b[0;34m'생성할 원소 개수를 입력한 다음 한 칸 띄고 찾을 문자열을 입력하세요.'\u001b[0m\u001b[0;34m)\u001b[0m\u001b[0;34m\u001b[0m\u001b[0;34m\u001b[0m\u001b[0m\n\u001b[1;32m     10\u001b[0m \u001b[0minput_data\u001b[0m \u001b[0;34m=\u001b[0m \u001b[0minput\u001b[0m\u001b[0;34m(\u001b[0m\u001b[0;34m)\u001b[0m\u001b[0;34m.\u001b[0m\u001b[0msplit\u001b[0m\u001b[0;34m(\u001b[0m\u001b[0;34m)\u001b[0m\u001b[0;34m\u001b[0m\u001b[0;34m\u001b[0m\u001b[0m\n\u001b[0;32m---> 11\u001b[0;31m \u001b[0mn\u001b[0m \u001b[0;34m=\u001b[0m \u001b[0mint\u001b[0m\u001b[0;34m(\u001b[0m\u001b[0minput_data\u001b[0m\u001b[0;34m[\u001b[0m\u001b[0;36m0\u001b[0m\u001b[0;34m]\u001b[0m\u001b[0;34m)\u001b[0m \u001b[0;31m# 원소의 개수\u001b[0m\u001b[0;34m\u001b[0m\u001b[0;34m\u001b[0m\u001b[0m\n\u001b[0m\u001b[1;32m     12\u001b[0m \u001b[0mtarget\u001b[0m \u001b[0;34m=\u001b[0m \u001b[0minput_data\u001b[0m\u001b[0;34m[\u001b[0m\u001b[0;36m1\u001b[0m\u001b[0;34m]\u001b[0m\u001b[0;34m\u001b[0m\u001b[0;34m\u001b[0m\u001b[0m\n\u001b[1;32m     13\u001b[0m \u001b[0;34m\u001b[0m\u001b[0m\n",
      "\u001b[0;31mIndexError\u001b[0m: list index out of range"
     ]
    }
   ],
   "source": [
    "# 순차 탐색 예제\n",
    "def sequential_search(n, target, array):\n",
    "    # 각 원소를 하나씩 확인\n",
    "    for i in range(n):\n",
    "        # 현재의 원소가 찾고자 하는 원소와 동일한 경우\n",
    "        if array[i] == target:\n",
    "            return i + 1 # 현재 위치 반환(인덱스는 0부터 시작하므로 1 더함)\n",
    "\n",
    "print('생성할 원소 개수를 입력한 다음 한 칸 띄고 찾을 문자열을 입력하세요.')\n",
    "input_data = input().split()\n",
    "n = int(input_data[0]) # 원소의 개수\n",
    "target = input_data[1]\n",
    "\n",
    "print('앞서 적은 원소 개수만큼 문자열을 입력하세요. 구분은 띄어쓰기 한 칸으로 합니다.')\n",
    "array = input().split()\n",
    "\n",
    "# 순차 탐색 수행 결과 출력\n",
    "print(sequential_search(n, target, array))"
   ]
  },
  {
   "cell_type": "markdown",
   "metadata": {},
   "source": [
    "# 이진 탐색 : 반으로 쪼개면서 탐색\n",
    "- 배열 내부의 데이터가 정렬돼 있어야만 사용할 수 있음\n",
    "- 이미 정렬된 데이터를 매우 빠르게 찾을 수 있음\n",
    "- 탐색 범위를 절반씩 좁혀가며 데이터를 탐색\n",
    "- 위치를 나타내는 변수 3개를 사용\n",
    "    1. 시작점\n",
    "    2. 끝점\n",
    "    3. 중간점\n",
    "- 찾는 데이터와 중간점 위치에 있는 데이터를 반복적으로 비교해서 원하는 데이터를 찾는 게 이진 탐색 과정\n",
    "- 한 번 확인할 때마다 확인하는 원소의 개수가 절반씩 줄어든다는 점에서 시간 복잡도가 O(㏒N)\n",
    "- 절반씩 데이터를 줄어들도록 만드는 점은 퀵 정렬과 공통됨.\n",
    "- 예를 들어 데이터의 개수가 32개일 때, 1단계만 거치면 이상적인 경우 16개 가량의 데이터만 남게 될 것.\n",
    "- 2단계를 거치면 8개 가량의 데이터만 확인하면 됨.\n",
    "- 이진 탐색 구현 법\n",
    "    1. 재귀 함수 사용\n",
    "    2. 반복문 사용"
   ]
  },
  {
   "cell_type": "code",
   "execution_count": null,
   "metadata": {},
   "outputs": [
    {
     "name": "stdout",
     "output_type": "stream",
     "text": [
      "원소가 존재하지 않습니다.\n"
     ]
    }
   ],
   "source": [
    "# 재귀 함수로 구현한 이진 탐색\n",
    "def binary_search(array, target, start, end):\n",
    "    if start > end:\n",
    "        return None\n",
    "    mid = (start + end) // 2\n",
    "    # 찾은 경우 중간점 인덱스 반환\n",
    "    if array[mid] == target:\n",
    "        return mid\n",
    "    # 중간점의 값보다 찾고자 하는 값이 작은 경우 왼쪽 확인\n",
    "    elif array[mid] > target:\n",
    "        return binary_search(array, target, start, mid - 1)\n",
    "    # 중간점의 값보다 찾고자 하는 값이 큰 경우 오른쪽 확인\n",
    "    else:\n",
    "        return binary_search(array, target, mid + 1, end)\n",
    "    \n",
    "# n(원소의 개수)과 target(찾고자 하는 문자열)을 입력 받기\n",
    "n, target = list(map(int, input().split()))\n",
    "# 전체 원소 입력받기\n",
    "array = list(map(int, input().split()))\n",
    "\n",
    "# 이진 탐색 수행 결과 출력\n",
    "result = binary_search(array, target, 0, n - 1)\n",
    "if result == None:\n",
    "    print('원소가 존재하지 않습니다.')\n",
    "else:\n",
    "    print(result + 1)"
   ]
  },
  {
   "cell_type": "code",
   "execution_count": null,
   "metadata": {},
   "outputs": [
    {
     "name": "stdout",
     "output_type": "stream",
     "text": [
      "4\n"
     ]
    }
   ],
   "source": [
    "# 반복문으로 구현한 이진 탐색\n",
    "def binary_search(array, target, start, end):\n",
    "    while start <= end:\n",
    "        mid = (start + end) // 2\n",
    "\n",
    "        if array[mid] == target:\n",
    "            return mid\n",
    "        elif array[mid] > target:\n",
    "            end = mid - 1\n",
    "        else:\n",
    "            start = mid + 1\n",
    "    return None\n",
    "\n",
    "n, target = list(map(int, input().split()))\n",
    "# 전체 원소 입력받기\n",
    "array = list(map(int, input().split()))\n",
    "\n",
    "# 이진 탐색 수행 결과 출력\n",
    "result = binary_search(array, target, 0, n - 1)\n",
    "if result == None:\n",
    "    print('원소가 존재하지 않습니다.')\n",
    "else:\n",
    "    print(result + 1)"
   ]
  },
  {
   "cell_type": "markdown",
   "metadata": {},
   "source": [
    "### 코딩 테스트에서의 이진 탐색\n",
    "- 앞의 예제를 보고 이진 탐색이 단순하다 느낄 수 있지만, 참고할 소스코드가 없는 상태에서 이진 탐색의 소스코드를 구현하는 것은 상당히 어려운 작업이 될 수 있음.\n",
    "- 코드가 짧으니 이진 탐색을 처음 접했다면, 여러 차례 코드를 입력하며 자연스럽게 외워보자.\n",
    "- 이진 탐색은 코딩 테스트에 단골로 나오는 문제!\n",
    "- 이진 탐색의 원리는 다른 알고리즘에서도 폭넓게 적용되는 원리와 유사하기에 매우 중요!\n",
    "- 높은 난이도의 문제에서는 이진 탐색 알고리즘이 다른 알고리즘과 함께 사용되기도 한다.\n",
    "- 코딩 테스트의 이진 탐색 문제는 탐색 범위가 큰 상황에서의 탐색을 가정하는 문제가 많음.\n",
    "- 따라서 범위가 2,000만을 넘어가면 이진 탐새으로 접근하는것이 효율적\n",
    "- 처리해야 할 데이터의 개수나 값이 1,000만 단위 이상으로 넘어가면 이진 탐색과 같이 O(㏒N)의 속도를 내야 하는 알고리즘을 떠올려야 문제를 풀 수 있는 경우가 많음"
   ]
  },
  {
   "cell_type": "markdown",
   "metadata": {},
   "source": [
    "# 트리 자료구조\n",
    "- 이진 탐색은 전제 조건이 데이터 정렬\n",
    "- 동작하는 프로그램에서 데이터를 정렬해두는 경우가 많으므로 이진 탐색을 효과 적으로 사용할 수 있다.\n",
    "- 데이터베이스는 내부적으로 대용량 데이터 처리에 적합한 트리 자료구조를 이용해 항상 데이터가 정렬돼 있다.\n",
    "- 따라서 데이터베이스에서의 탐색은 이진 탐색과는 조금 다르지만, 이진 탐색과 유사한 방법을 이용해 탐색을 항상 빠르게 수행하도록 설계되어 있어서 데이터가 많아도 탐색하는 속도가 빠름\n",
    "- 트리 자료구조는 노드와 노드의 연결로 표현\n",
    "    - 노드 : 정보의 단위. 어던 정보를 가지고 있는 개체\n",
    "- 트리 자료구조는 그래프 자료구조의 일종. 데이터베이스 시스템이나 파일 시스템과 같은 곳에서 많은 양의 데이터를 관리하기 위한 목적으로 사용\n",
    "- 트리 자료구조의 몇가지 주요 특징\n",
    "    - 트리는 부모 노드와 자식 노드의 관계로 표현됨\n",
    "    - 트리의 최상단 노드를 루트 노드라고 함\n",
    "    - 트리의 최하단 노드를 단말 노드라고 함\n",
    "    - 트리에서 일부를 떼어내도 트리 구조이며 이를 서브트리라고 함\n",
    "    - 트리는 파일 시스템과 같이 계층적이고 정렬된 데이터를 다루기에 적합\n",
    "- 큰 데이터를 처리하는 소프트웨어는 대부분 데이터를 트리 자료구조로 저장해서 이진 탐색과 같은 탐색 기법을 이용해 빠르게 탐색 가능"
   ]
  },
  {
   "cell_type": "markdown",
   "metadata": {},
   "source": [
    "# 이진 탐색 트리\n",
    "- 트리 자료구조 중 가장 간단한 형태\n",
    "- 이진 탐색이 동작할 수 있도록 고안된, 효율적인 탐색이 가능한 자료구조.\n",
    "- 이진 탐색 트리의 특징\n",
    "    - 부모 노드보다 왼쪽 자식 노드가 작다.\n",
    "    - 부모 노드보다 오른쪽 자식 노드가 크다.\n",
    "    - 왼쪽 자식 노드 < 부모 노드 < 오른쪽 자식 노드\n",
    "- 이진 탐색 트레어 데이터를 넣고 빼는 방법은 알고리즘보단 자료구조에 가까움.\n",
    "- 이진 탐색 트리 자료구조를 구현하도록 요구하는 문제는 출제 빈도가 낮다."
   ]
  },
  {
   "cell_type": "markdown",
   "metadata": {},
   "source": [
    "### 빠르게 입력받기\n",
    "- 이진 탐색 문제는 입력 데이터가 많거나, 탐색 범위가 매우 넓은 편.\n",
    "- 데이터의 개수가 1,000만 개를 넘어가거나 탐색 범위의 크기가 1,000억 이상이라면 이진 탐색 알고리즘을 의심해보자\n",
    "- 이렇게 입력 데이터의 개수가 많은 문제에 input() 함수를 사용하면 동작 속도가 느려서 시간 초과로 오답 판정을 받을 수 있다.\n",
    "- 따라서 입력 데이터가 많은 문제는 sys 라이브러리의 readline() 함수를 이용하면 시간 초과를 피할 수 있다.\n",
    "- 때로는 코등 테스트 출제자가 아예 sys 라이브러리를 사용하기를 권고하기도 한다.\n",
    "- sys 라이브러리는 한 줄씩 입력받는다."
   ]
  },
  {
   "cell_type": "code",
   "execution_count": 23,
   "metadata": {},
   "outputs": [
    {
     "name": "stdout",
     "output_type": "stream",
     "text": [
      "\n"
     ]
    }
   ],
   "source": [
    "# !! 주피터 환경에서는 동작하지 않는다.\n",
    "# 한 줄 입력받아 출력하는 소스코드\n",
    "import sys\n",
    "\n",
    "# 하나의 문자열 데이터 입력받기\n",
    "input_data = sys.stdin.readline().rstrip()\n",
    "\n",
    "# 입력받은 문자열 그대로 출력\n",
    "print(input_data)"
   ]
  },
  {
   "cell_type": "code",
   "execution_count": null,
   "metadata": {},
   "outputs": [],
   "source": []
  }
 ],
 "metadata": {
  "interpreter": {
   "hash": "9e5ba8102417ed24000ae30d0ee823b0df91ab90972766c536e2f5d51ee26514"
  },
  "kernelspec": {
   "display_name": "Python 3.9.7 64-bit ('study': conda)",
   "language": "python",
   "name": "python3"
  },
  "language_info": {
   "codemirror_mode": {
    "name": "ipython",
    "version": 3
   },
   "file_extension": ".py",
   "mimetype": "text/x-python",
   "name": "python",
   "nbconvert_exporter": "python",
   "pygments_lexer": "ipython3",
   "version": "3.9.7"
  },
  "orig_nbformat": 4
 },
 "nbformat": 4,
 "nbformat_minor": 2
}
