{
 "cells": [
  {
   "cell_type": "markdown",
   "metadata": {},
   "source": [
    "# 배운 내용 훑어보기\n",
    "- DFS/BFS와 최단 경로에서 다룬 내용은 모두 그래프 알고리즘의 한 유형\n",
    "- 코딩 테스트에서 출제 비중이 낮은 편이지만 꼭 제대로 알아야 하는 알고리즘\n",
    "- 여기서 다루는 개념들을 바르게 이해할 수있다면 코딩 테스트에서 만나게 될 다양한 응용문제들도 해결할 수 있을것!\n",
    "- 앞으로 배울 알고리즘들은 앞서 배운 내용에 기반\n",
    "    - 크루스칼 알고리즘 : 그리디 알고리즘\n",
    "    - 위상 정렬 알고리즘 : 큐 자료구조, 스택 자료구조를 활용해야 구현 가능\n",
    "- 그래프\n",
    "    - 그래프란 노드와 노드사이에 연결된 간선의 정보를 가지고 있는 자료구조\n",
    "    - 알고리즘 문제를 접했을 때 서로 다른 개체가 연결돼있다. 와 같은 내용이 등장하면 그래프 알고리즘을 의심!\n",
    "    - 그래프 자료구조 중 트리 자료구조는 다양한 알고리즘에서 사용되므로 꼭 기억하자!\n",
    "    - 그래프의 구현 방법\n",
    "        - 인접 행렬 : 2차원 배열을 사용하는 방식\n",
    "        - 인접 리스트 : 리스트를 사용하는 방식"
   ]
  },
  {
   "cell_type": "markdown",
   "metadata": {},
   "source": [
    "# 서로소 집합\n",
    "- 공통 원소가 없는 두 집합\n",
    "    - {1, 2}와 {3, 4}는 서로소 관계이다\n",
    "    - {1, 2}와 {2, 3}은 서로소관계가 아니다"
   ]
  },
  {
   "cell_type": "markdown",
   "metadata": {},
   "source": [
    "### 서로소 집합 자료구조\n",
    "- 서로소 부분 집합들로 나누어진 원소들의 데이터를 처리하기 위한 자료구조\n",
    "- 서로소 집합 자료구조는 두 종류의 연산을 지원\n",
    "    1. 합집합(Union) : 두 개의 원소가 포함된 집합을 하나의 집합으로 합치는 연산\n",
    "    2. 찾기(Find): 특정한 원소가 속한 집합이 어떤 집합인지 알려주는 연산\n",
    "- 서로소 집합 자료구조는 합치기 찾기(Union Find) 자료구조라고 불리기도 한다.\n",
    "- 여러 개의 합치기 연산이 주어졌을 때 서로소 집합 자료구조의 동작과정\n",
    "    1. 합집합(Union) 연산을 확인하여, 서로 연결된 두 노드 A, B를 확인한다\n",
    "        1. A와 B의 루트 노드 A', B'을 각각 찾는다\n",
    "        2. A'를 B'의 부모 노드로 설정한다.\n",
    "    2. 모든 합집합(Union) 연산을 처리할 때까지 1번의 과정을 반복한다.\n",
    "- 기본적인 형태의 서로소 집합 자료구조에서는 루트 노드에 즉시 접근할 수 없다.\n",
    "    - 루트 노드를 찾기 위해 부모 테이블을 계속해서 확인하며 거슬러 올라가야 한다."
   ]
  },
  {
   "cell_type": "code",
   "execution_count": 2,
   "metadata": {},
   "outputs": [
    {
     "name": "stdout",
     "output_type": "stream",
     "text": [
      "각 원소가 속한 집합: 1 1 1 1 5 5 \n",
      "부모 테이블: 1 1 2 1 5 5 "
     ]
    }
   ],
   "source": [
    "# 서로소 집합 자료구조: 기본적인 구현 방법\n",
    "# 특정 원소가 속한 집합을 찾기\n",
    "def find_parent(parent, x):\n",
    "    # 루트 노드를 찾을 때까지 재귀 호출\n",
    "    if parent[x] != x:\n",
    "        return find_parent(parent, parent[x])\n",
    "    return x\n",
    "\n",
    "# 두 원소가 속한 집합을 합치기\n",
    "def union_parent(parent, a, b):\n",
    "    a = find_parent(parent, a)\n",
    "    b = find_parent(parent, b)\n",
    "    if a < b:\n",
    "        parent[b] = a\n",
    "    else:\n",
    "        parent[a] = b\n",
    "\n",
    "# 노드의 개수와 간선(Union 연산)의 개수 입력 받기\n",
    "v, e = map(int, input().split())\n",
    "parent = [0] * (v + 1) # 부모 테이블 초기화하기\n",
    "\n",
    "# 부모 테이블상에서, 부모를 자기 자신으로 초기화\n",
    "for i in range(1, v + 1):\n",
    "    parent[i] = i\n",
    "\n",
    "# Union 연산을 각각 수행\n",
    "for i in range(e):\n",
    "    a, b = map(int, input().split())\n",
    "    union_parent(parent, a, b)\n",
    "\n",
    "# 각 원소가 속한 집합 출력하기\n",
    "print('각 원소가 속한 집합: ', end='')\n",
    "for i in range(1, v + 1):\n",
    "    print(find_parent(parent, i), end=' ')\n",
    "\n",
    "print()\n",
    "\n",
    "# 부모 테이블 내용 출력하기\n",
    "print('부모 테이블: ', end='')\n",
    "for i in range(1, v + 1):\n",
    "    print(parent[i], end=' ')"
   ]
  },
  {
   "cell_type": "markdown",
   "metadata": {},
   "source": [
    "- 합집합 연산이 편향되게 이뤄지는 경우 찾기(Find) 함수가 비효율적으로 동작\n",
    "- 최악의 경우 찾기(Find) 함수가 모든 노드를 다 확인하게 되어 시간 복잡도가 O(V)\n",
    "- 따라서 찾기 함수를 최적화하기 위한 방법으로 경로 압축(Path Compression)을 이용할 수 있다.\n",
    "    - 찾기 함수를 재귀적으로 호출한 뒤 부모 테이블 값을 바로 갱신한다.\n",
    "- 경로 압축 기법을 적용하면 각 노드에 대해 찾기 함수를 호출한 이후 해당 노드의 루트 노드가 바로 부모 노드가 된다.\n",
    "- 기본적인 방법에 비해 시간 복잡도가 개선!"
   ]
  },
  {
   "cell_type": "code",
   "execution_count": null,
   "metadata": {},
   "outputs": [],
   "source": [
    "# 서로소 집합 자료구조: 경로 압축 기법 사용\n",
    "# find_parent함수 부분만 루트노드를 부모노드로 적용시키도록 바뀌었다.\n",
    "# 특정 원소가 속한 집합을 찾기\n",
    "def find_parent(parent, x):\n",
    "    # 루트 노드를 찾을 때까지 재귀 호출\n",
    "    if parent[x] != x:\n",
    "        parent[x] =  find_parent(parent, parent[x])\n",
    "    return parent[x]\n",
    "\n",
    "# 두 원소가 속한 집합을 합치기\n",
    "def union_parent(parent, a, b):\n",
    "    a = find_parent(parent, a)\n",
    "    b = find_parent(parent, b)\n",
    "    if a < b:\n",
    "        parent[b] = a\n",
    "    else:\n",
    "        parent[a] = b\n",
    "\n",
    "# 노드의 개수와 간선(Union 연산)의 개수 입력 받기\n",
    "v, e = map(int, input().split())\n",
    "parent = [0] * (v + 1) # 부모 테이블 초기화하기\n",
    "\n",
    "# 부모 테이블상에서, 부모를 자기 자신으로 초기화\n",
    "for i in range(1, v + 1):\n",
    "    parent[i] = i\n",
    "\n",
    "# Union 연산을 각각 수행\n",
    "for i in range(e):\n",
    "    a, b = map(int, input().split())\n",
    "    union_parent(parent, a, b)\n",
    "\n",
    "# 각 원소가 속한 집합 출력하기\n",
    "print('각 원소가 속한 집합: ', end='')\n",
    "for i in range(1, v + 1):\n",
    "    print(find_parent(parent, i), end=' ')\n",
    "\n",
    "print()\n",
    "\n",
    "# 부모 테이블 내용 출력하기\n",
    "print('부모 테이블: ', end='')\n",
    "for i in range(1, v + 1):\n",
    "    print(parent[i], end=' ')"
   ]
  },
  {
   "cell_type": "markdown",
   "metadata": {},
   "source": [
    "### 서로소 집합을 활용한 사이클 판별\n",
    "- 서로소 집합은 무방향 그래프 내에서의 사이클을 판별할 때 사용할 수 있다.\n",
    "    - 참고로 방향 그래프에서의 사이클 여부는 DFS를 이용해 판별가능하다.\n",
    "- 사이클 판별 알고리즘은 다음과 같다\n",
    "    1. 각 간선을 하나씩 확인하며 두 노드의 루트 노드를 확인한다.\n",
    "        1. 루트 노드가 서로 다르다면 두 노드에 대해 합집합(Union) 연산을 수행한다.\n",
    "        2. 루트 노드가 서로 같다면 사이클(Cycle)이 발생한 것입니다.\n",
    "    2. 그래프에 포함되어 있는 모든 간선에 대해 1번 과정을 반복한다."
   ]
  },
  {
   "cell_type": "code",
   "execution_count": 3,
   "metadata": {},
   "outputs": [
    {
     "name": "stdout",
     "output_type": "stream",
     "text": [
      "사이클 발생\n"
     ]
    }
   ],
   "source": [
    "# 서로소 집합을 활용한 사이클 판별 소스코드\n",
    "\n",
    "# 특정 원소가 속한 집합 찾기\n",
    "def find_parent(parent, x):\n",
    "    # 루트 노드를 찾을 때까지 재귀 호출\n",
    "    if parent[x] != x:\n",
    "        parent[x] =  find_parent(parent, parent[x])\n",
    "    return parent[x]\n",
    "\n",
    "# 두 원소가 속한 집합을 합치기\n",
    "def union_parent(parent, a, b):\n",
    "    a = find_parent(parent, a)\n",
    "    b = find_parent(parent, b)\n",
    "    if a < b:\n",
    "        parent[b] = a\n",
    "    else:\n",
    "        parent[a] = b\n",
    "\n",
    "# 노드의 개수와 간선(Union 연산)의 개수 입력 받기\n",
    "v, e = map(int, input().split())\n",
    "parent = [0] * (v + 1) # 부모 테이블 초기화하기\n",
    "\n",
    "# 부모 테이블상에서, 부모를 자기 자신으로 초기화\n",
    "for i in range(1, v + 1):\n",
    "    parent[i] = i\n",
    "\n",
    "cycle = False # 사이클 발생 여부\n",
    "\n",
    "for i in range(e):\n",
    "    a, b = map(int, input().split())\n",
    "    # 사이클이 발생한 경우 종료\n",
    "    if find_parent(parent, a) == find_parent(parent, b):\n",
    "        cycle = True\n",
    "        break\n",
    "    # 사이클이 발생하지 않았다면 합집합(union) 수행\n",
    "    else:\n",
    "        union_parent(parent, a, b)\n",
    "\n",
    "if cycle:\n",
    "    print('사이클 발생')\n",
    "else:\n",
    "    print('사이클 미발생')"
   ]
  },
  {
   "cell_type": "markdown",
   "metadata": {},
   "source": [
    "# 신장 트리\n",
    "- 하나의 그래프가 있을 때 모든 노드를 포함하면서 사이클이 존재하지 않는 부분 그래프\n",
    "    - 모든 노드가 포함돼 서로 연결되면서 사이클이 존재하지 않는다는 조건은 트리의 성립조건이기도 함"
   ]
  },
  {
   "cell_type": "markdown",
   "metadata": {},
   "source": [
    "### 최소 신장 트리\n",
    "- 최소한의 비용으로 구성되는 신장 트리를 찾아야 할 때 사용\n",
    "- 예를 들어 N개의 도시가 존재하는 상황에서 두 도시 사이에 도로를 놓아 전체 도시가 서로 연결될 수 있게 도로를 설치하는 경우를 생각해보자\n",
    "    - 두 도시 A, B를 선택했을 때 A에서 B로 이동하는 경로가 반드시 존재하도록 도로를 설치"
   ]
  },
  {
   "cell_type": "markdown",
   "metadata": {},
   "source": [
    "### 크루스칼 알고리즘\n",
    "- 대표적인 최소 신장 트리 알고리즘\n",
    "- 그리디 알고리즘으로 분류\n",
    "- 구체적 동작 과정\n",
    "    1. 간선 데이터를 비용에 따라 오름차순으로 정렬\n",
    "    2. 간선을 하나씩 확인하면 현재의 간선이 사이클을 발생시키는지 확인\n",
    "        1. 사이클이 발생하지 않는 경우 최소 신장 트리에 포함\n",
    "        2. 사이클이 발생하는 경우 최소 신장 트리에 포함시키지 않음\n",
    "    3. 모든 간선에 대해 2번의 과정을 반복"
   ]
  },
  {
   "cell_type": "code",
   "execution_count": 3,
   "metadata": {},
   "outputs": [
    {
     "name": "stdout",
     "output_type": "stream",
     "text": [
      "159\n"
     ]
    }
   ],
   "source": [
    "# 크루스칼 알고리즘 소스코드\n",
    "# 특정 원소가 속한 집합을 찾기\n",
    "def find_parent(parent, x):\n",
    "    # 루트 노드가 아니라면, 루트 노드를 찾을 때까지 재귀적으로 호출\n",
    "    if parent[x] != x:\n",
    "        parent[x] = find_parent(parent, parent[x])\n",
    "    return parent[x]\n",
    "\n",
    "# 두 원소가 속한 집합을 합치기\n",
    "def union_parent(parent, a, b):\n",
    "    a = find_parent(parent, a)\n",
    "    b = find_parent(parent, b)\n",
    "    if a < b:\n",
    "        parent[b] = a\n",
    "    else:\n",
    "        parent[a] = b\n",
    "\n",
    "# 노드의 개수와 간선(union 연산)의 개수 입력받기\n",
    "v, e = map(int, input().split())\n",
    "parent = [0] * (v + 1) # 부모 테이블 초기화\n",
    "\n",
    "# 모든 간선을 담을 리스트와 최종 비용을 담을 변수\n",
    "edges = []\n",
    "result = 0\n",
    "\n",
    "# 부모 테이블상에서, 부모를 자기 자신으로 초기화\n",
    "for i in range(1, v + 1):\n",
    "    parent[i] = i\n",
    "\n",
    "# 모든 간선에 대한 정보를 입력받기\n",
    "for _ in range(e):\n",
    "    a, b, cost = map(int, input().split())\n",
    "    # 비용순으로 정렬하기 위해 튜플의 첫 원소를 비용으로 설정\n",
    "    edges.append((cost, a, b))\n",
    "\n",
    "# 간선을 비용순으로 정렬\n",
    "edges.sort()\n",
    "\n",
    "# 간선을 하나씩 확인하며\n",
    "for edge in edges:\n",
    "    cost, a, b = edge\n",
    "    # 사이클이 발생하지 않는 경우에만 집합에 포함\n",
    "    if find_parent(parent, a) != find_parent(parent, b):\n",
    "        union_parent(parent, a, b)\n",
    "        result += cost\n",
    "\n",
    "print(result)"
   ]
  },
  {
   "cell_type": "markdown",
   "metadata": {},
   "source": [
    "#### 크루스칼 알고리즘 성능 분석\n",
    "- 크루스칼 알고리즘은 간선의 개수가 E개일 때, O(ElogE)의 시간 복잡도를 가진다\n",
    "- 크루스칼 알고리즘에서 가장 많은 시간을 요구하는 곳은 간선의 정렬을 수행하는 부분\n",
    "    - 표준 라이브러리를 이용해 E개의 데이터를 정렬하기 위한 시간 복잡도는 O(ElogE) 이다."
   ]
  },
  {
   "cell_type": "markdown",
   "metadata": {},
   "source": []
  }
 ],
 "metadata": {
  "interpreter": {
   "hash": "9e5ba8102417ed24000ae30d0ee823b0df91ab90972766c536e2f5d51ee26514"
  },
  "kernelspec": {
   "display_name": "Python 3.9.7 64-bit ('study': conda)",
   "language": "python",
   "name": "python3"
  },
  "language_info": {
   "codemirror_mode": {
    "name": "ipython",
    "version": 3
   },
   "file_extension": ".py",
   "mimetype": "text/x-python",
   "name": "python",
   "nbconvert_exporter": "python",
   "pygments_lexer": "ipython3",
   "version": "3.9.7"
  },
  "orig_nbformat": 4
 },
 "nbformat": 4,
 "nbformat_minor": 2
}
