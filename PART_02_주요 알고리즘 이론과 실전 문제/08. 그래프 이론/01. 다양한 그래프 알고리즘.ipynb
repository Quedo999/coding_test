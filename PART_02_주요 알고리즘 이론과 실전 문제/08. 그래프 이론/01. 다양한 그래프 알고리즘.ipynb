{
 "cells": [
  {
   "cell_type": "markdown",
   "metadata": {},
   "source": [
    "# 배운 내용 훑어보기\n",
    "- DFS/BFS와 최단 경로에서 다룬 내용은 모두 그래프 알고리즘의 한 유형\n",
    "- 코딩 테스트에서 출제 비중이 낮은 편이지만 꼭 제대로 알아야 하는 알고리즘\n",
    "- 여기서 다루는 개념들을 바르게 이해할 수있다면 코딩 테스트에서 만나게 될 다양한 응용문제들도 해결할 수 있을것!\n",
    "- 앞으로 배울 알고리즘들은 앞서 배운 내용에 기반\n",
    "    - 크루스칼 알고리즘 : 그리디 알고리즘\n",
    "    - 위상 정렬 알고리즘 : 큐 자료구조, 스택 자료구조를 활용해야 구현 가능\n",
    "- 그래프\n",
    "    - 그래프란 노드와 노드사이에 연결된 간선의 정보를 가지고 있는 자료구조\n",
    "    - 알고리즘 문제를 접했을 때 서로 다른 개체가 연결돼있다. 와 같은 내용이 등장하면 그래프 알고리즘을 의심!\n",
    "    - 그래프 자료구조 중 트리 자료구조는 다양한 알고리즘에서 사용되므로 꼭 기억하자!\n",
    "    - 그래프의 구현 방법\n",
    "        - 인접 행렬 : 2차원 배열을 사용하는 방식\n",
    "        - 인접 리스트 : 리스트를 사용하는 방식"
   ]
  },
  {
   "cell_type": "markdown",
   "metadata": {},
   "source": [
    "# 서로소 집합\n",
    "- 공통 원소가 없는 두 집합\n",
    "    - {1, 2}와 {3, 4}는 서로소 관계이다\n",
    "    - {1, 2}와 {2, 3}은 서로소관계가 아니다"
   ]
  },
  {
   "cell_type": "markdown",
   "metadata": {},
   "source": [
    "### 서로소 집합 자료구조\n",
    "- 서로소 부분 집합들로 나누어진 원소들의 데이터를 처리하기 위한 자료구조\n",
    "- 서로소 집합 자료구조는 두 종류의 연산을 지원\n",
    "    1. 합집합(Union) : 두 개의 원소가 포함된 집합을 하나의 집합으로 합치는 연산\n",
    "    2. 찾기(Find): 특정한 원소가 속한 집합이 어떤 집합인지 알려주는 연산\n",
    "- 서로소 집합 자료구조는 합치기 찾기(Union Find) 자료구조라고 불리기도 한다.\n",
    "- 여러 개의 합치기 연산이 주어졌을 때 서로소 집합 자료구조의 동작과정\n",
    "    1. 합집합(Union) 연산을 확인하여, 서로 연결된 두 노드 A, B를 확인한다\n",
    "        1. A와 B의 루트 노드 A', B'을 각각 찾는다\n",
    "        2. A'를 B'의 부모 노드로 설정한다.\n",
    "    2. 모든 합집합(Union) 연산을 처리할 때까지 1번의 과정을 반복한다.\n",
    "- 기본적인 형태의 서로소 집합 자료구조에서는 루트 노드에 즉시 접근할 수 없다.\n",
    "    - 루트 노드를 찾기 위해 부모 테이블을 계속해서 확인하며 거슬러 올라가야 한다."
   ]
  },
  {
   "cell_type": "code",
   "execution_count": 2,
   "metadata": {},
   "outputs": [
    {
     "name": "stdout",
     "output_type": "stream",
     "text": [
      "각 원소가 속한 집합: 1 1 1 1 5 5 \n",
      "부모 테이블: 1 1 2 1 5 5 "
     ]
    }
   ],
   "source": [
    "# 서로소 집합 자료구조: 기본적인 구현 방법\n",
    "# 특정 원소가 속한 집합을 찾기\n",
    "def find_parent(parent, x):\n",
    "    # 루트 노드를 찾을 때까지 재귀 호출\n",
    "    if parent[x] != x:\n",
    "        return find_parent(parent, parent[x])\n",
    "    return x\n",
    "\n",
    "# 두 원소가 속한 집합을 합치기\n",
    "def union_parent(parent, a, b):\n",
    "    a = find_parent(parent, a)\n",
    "    b = find_parent(parent, b)\n",
    "    if a < b:\n",
    "        parent[b] = a\n",
    "    else:\n",
    "        parent[a] = b\n",
    "\n",
    "# 노드의 개수와 간선(Union 연산)의 개수 입력 받기\n",
    "v, e = map(int, input().split())\n",
    "parent = [0] * (v + 1) # 부모 테이블 초기화하기\n",
    "\n",
    "# 부모 테이블상에서, 부모를 자기 자신으로 초기화\n",
    "for i in range(1, v + 1):\n",
    "    parent[i] = i\n",
    "\n",
    "# Union 연산을 각각 수행\n",
    "for i in range(e):\n",
    "    a, b = map(int, input().split())\n",
    "    union_parent(parent, a, b)\n",
    "\n",
    "# 각 원소가 속한 집합 출력하기\n",
    "print('각 원소가 속한 집합: ', end='')\n",
    "for i in range(1, v + 1):\n",
    "    print(find_parent(parent, i), end=' ')\n",
    "\n",
    "print()\n",
    "\n",
    "# 부모 테이블 내용 출력하기\n",
    "print('부모 테이블: ', end='')\n",
    "for i in range(1, v + 1):\n",
    "    print(parent[i], end=' ')"
   ]
  },
  {
   "cell_type": "markdown",
   "metadata": {},
   "source": [
    "- 합집합 연산이 편향되게 이뤄지는 경우 찾기(Find) 함수가 비효율적으로 동작\n",
    "- 최악의 경우 찾기(Find) 함수가 모든 노드를 다 확인하게 되어 시간 복잡도가 O(V)\n",
    "- 따라서 찾기 함수를 최적화하기 위한 방법으로 경로 압축(Path Compression)을 이용할 수 있다.\n",
    "    - 찾기 함수를 재귀적으로 호출한 뒤 부모 테이블 값을 바로 갱신한다.\n",
    "- 경로 압축 기법을 적용하면 각 노드에 대해 찾기 함수를 호출한 이후 해당 노드의 루트 노드가 바로 부모 노드가 된다.\n",
    "- 기본적인 방법에 비해 시간 복잡도가 개선!"
   ]
  },
  {
   "cell_type": "code",
   "execution_count": null,
   "metadata": {},
   "outputs": [],
   "source": [
    "# 서로소 집합 자료구조: 경로 압축 기법 사용\n",
    "# find_parent함수 부분만 루트노드를 부모노드로 적용시키도록 바뀌었다.\n",
    "# 특정 원소가 속한 집합을 찾기\n",
    "def find_parent(parent, x):\n",
    "    # 루트 노드를 찾을 때까지 재귀 호출\n",
    "    if parent[x] != x:\n",
    "        parent[x] =  find_parent(parent, parent[x])\n",
    "    return parent[x]\n",
    "\n",
    "# 두 원소가 속한 집합을 합치기\n",
    "def union_parent(parent, a, b):\n",
    "    a = find_parent(parent, a)\n",
    "    b = find_parent(parent, b)\n",
    "    if a < b:\n",
    "        parent[b] = a\n",
    "    else:\n",
    "        parent[a] = b\n",
    "\n",
    "# 노드의 개수와 간선(Union 연산)의 개수 입력 받기\n",
    "v, e = map(int, input().split())\n",
    "parent = [0] * (v + 1) # 부모 테이블 초기화하기\n",
    "\n",
    "# 부모 테이블상에서, 부모를 자기 자신으로 초기화\n",
    "for i in range(1, v + 1):\n",
    "    parent[i] = i\n",
    "\n",
    "# Union 연산을 각각 수행\n",
    "for i in range(e):\n",
    "    a, b = map(int, input().split())\n",
    "    union_parent(parent, a, b)\n",
    "\n",
    "# 각 원소가 속한 집합 출력하기\n",
    "print('각 원소가 속한 집합: ', end='')\n",
    "for i in range(1, v + 1):\n",
    "    print(find_parent(parent, i), end=' ')\n",
    "\n",
    "print()\n",
    "\n",
    "# 부모 테이블 내용 출력하기\n",
    "print('부모 테이블: ', end='')\n",
    "for i in range(1, v + 1):\n",
    "    print(parent[i], end=' ')"
   ]
  },
  {
   "cell_type": "markdown",
   "metadata": {},
   "source": [
    "### 서로소 집합을 활용한 사이클 판별\n",
    "- 서로소 집합은 무방향 그래프 내에서의 사이클을 판별할 때 사용할 수 있다.\n",
    "    - 참고로 방향 그래프에서의 사이클 여부는 DFS를 이용해 판별가능하다.\n",
    "- 사이클 판별 알고리즘은 다음과 같다\n",
    "    1. 각 간선을 하나씩 확인하며 두 노드의 루트 노드를 확인한다.\n",
    "        1. 루트 노드가 서로 다르다면 두 노드에 대해 합집합(Union) 연산을 수행한다.\n",
    "        2. 루트 노드가 서로 같다면 사이클(Cycle)이 발생한 것입니다.\n",
    "    2. 그래프에 포함되어 있는 모든 간선에 대해 1번 과정을 반복한다."
   ]
  },
  {
   "cell_type": "code",
   "execution_count": 3,
   "metadata": {},
   "outputs": [
    {
     "name": "stdout",
     "output_type": "stream",
     "text": [
      "사이클 발생\n"
     ]
    }
   ],
   "source": [
    "# 서로소 집합을 활용한 사이클 판별 소스코드\n",
    "\n",
    "# 특정 원소가 속한 집합 찾기\n",
    "def find_parent(parent, x):\n",
    "    # 루트 노드를 찾을 때까지 재귀 호출\n",
    "    if parent[x] != x:\n",
    "        parent[x] =  find_parent(parent, parent[x])\n",
    "    return parent[x]\n",
    "\n",
    "# 두 원소가 속한 집합을 합치기\n",
    "def union_parent(parent, a, b):\n",
    "    a = find_parent(parent, a)\n",
    "    b = find_parent(parent, b)\n",
    "    if a < b:\n",
    "        parent[b] = a\n",
    "    else:\n",
    "        parent[a] = b\n",
    "\n",
    "# 노드의 개수와 간선(Union 연산)의 개수 입력 받기\n",
    "v, e = map(int, input().split())\n",
    "parent = [0] * (v + 1) # 부모 테이블 초기화하기\n",
    "\n",
    "# 부모 테이블상에서, 부모를 자기 자신으로 초기화\n",
    "for i in range(1, v + 1):\n",
    "    parent[i] = i\n",
    "\n",
    "cycle = False # 사이클 발생 여부\n",
    "\n",
    "for i in range(e):\n",
    "    a, b = map(int, input().split())\n",
    "    # 사이클이 발생한 경우 종료\n",
    "    if find_parent(parent, a) == find_parent(parent, b):\n",
    "        cycle = True\n",
    "        break\n",
    "    # 사이클이 발생하지 않았다면 합집합(union) 수행\n",
    "    else:\n",
    "        union_parent(parent, a, b)\n",
    "\n",
    "if cycle:\n",
    "    print('사이클 발생')\n",
    "else:\n",
    "    print('사이클 미발생')"
   ]
  },
  {
   "cell_type": "markdown",
   "metadata": {},
   "source": [
    "# 신장 트리\n"
   ]
  }
 ],
 "metadata": {
  "interpreter": {
   "hash": "9e5ba8102417ed24000ae30d0ee823b0df91ab90972766c536e2f5d51ee26514"
  },
  "kernelspec": {
   "display_name": "Python 3.9.7 64-bit ('study': conda)",
   "language": "python",
   "name": "python3"
  },
  "language_info": {
   "codemirror_mode": {
    "name": "ipython",
    "version": 3
   },
   "file_extension": ".py",
   "mimetype": "text/x-python",
   "name": "python",
   "nbconvert_exporter": "python",
   "pygments_lexer": "ipython3",
   "version": "3.9.7"
  },
  "orig_nbformat": 4
 },
 "nbformat": 4,
 "nbformat_minor": 2
}
