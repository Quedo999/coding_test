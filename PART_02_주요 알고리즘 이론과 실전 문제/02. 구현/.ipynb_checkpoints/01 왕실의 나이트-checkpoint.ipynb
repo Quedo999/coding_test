{
 "cells": [
  {
   "cell_type": "code",
   "execution_count": 7,
   "id": "d0afe6e1",
   "metadata": {},
   "outputs": [
    {
     "name": "stdout",
     "output_type": "stream",
     "text": [
      "a1\n",
      "2\n"
     ]
    }
   ],
   "source": [
    "data = input()\n",
    "count = 0\n",
    "move_point = [(-2, -1), (-2, 1), (-1, 2), (-1, -2), (1, 2), (1, -2), (2, 1), (2, -1)]\n",
    "\n",
    "for move in move_point:\n",
    "    x = ord(data[0]) - ord('a') + 1\n",
    "    y = int(data[1])\n",
    "    \n",
    "    move_x = x + move[0]\n",
    "    move_y = y + move[1]\n",
    "    \n",
    "    if move_x < 1 or move_x > 8 or move_y < 1 or move_y > 8:\n",
    "        continue\n",
    "    count += 1\n",
    "print(count)"
   ]
  },
  {
   "cell_type": "code",
   "execution_count": 6,
   "id": "9aac9234",
   "metadata": {},
   "outputs": [
    {
     "data": {
      "text/plain": [
       "3"
      ]
     },
     "execution_count": 6,
     "metadata": {},
     "output_type": "execute_result"
    }
   ],
   "source": [
    "data = 'c1'\n",
    "ord(data[0]) - ord('a') + 1"
   ]
  },
  {
   "cell_type": "code",
   "execution_count": null,
   "id": "a72074ee",
   "metadata": {},
   "outputs": [],
   "source": [
    "가로로 -1보다 작거나 8보다 크면 out\n",
    "세로로 -1보다 작거나 8보다 크면 out"
   ]
  }
 ],
 "metadata": {
  "kernelspec": {
   "display_name": "Python 3 (ipykernel)",
   "language": "python",
   "name": "python3"
  },
  "language_info": {
   "codemirror_mode": {
    "name": "ipython",
    "version": 3
   },
   "file_extension": ".py",
   "mimetype": "text/x-python",
   "name": "python",
   "nbconvert_exporter": "python",
   "pygments_lexer": "ipython3",
   "version": "3.9.7"
  }
 },
 "nbformat": 4,
 "nbformat_minor": 5
}
