{
 "cells": [
  {
   "cell_type": "code",
   "execution_count": 2,
   "id": "2fc7405d",
   "metadata": {},
   "outputs": [],
   "source": [
    "# 맵은 1 * 1의 정사각형으로 이뤄진 N * M\n",
    "# 각각의 칸은 육지 또는 바다\n",
    "# 동서남북 중 한 곳을 봄\n",
    "# 맵의 각 칸은 (A, B)로 표현\n",
    "# A : 북쪽으로부터 떨어진 칸의 개수\n",
    "# B : 서쪽으로부터 떨어진 칸의 개수\n",
    "\n",
    "# 캐릭터는 상하좌우로 움직임\n",
    "# 바다는 갈 수 없음\n",
    "\n",
    "# 캐릭터 움직임 메뉴얼\n",
    "# 1. 현재 위치에서 현재 방향을 기준으로 왼쪽 방향(반시계 방향으로 90도 회전한 방향) 부터 차례대로 선택\n",
    "# 2. 캐릭터 바로 왼쪽 방향에 아직 가보지 않은 칸이 존재하면, 왼쪽 방향으로 회전한 다음 왼쪽으로 한 칸 전진, \n",
    "#     없다면 왼쪽 방향으로 회전만 수행하고 1단계로 돌아감\n",
    "# 3. 만약 네 방향 모두 이미 가본 칸이거나 바다이면 바라보는 방향을 유지하고 한 칸 뒤로 가고 1단계로 돌아감.\n",
    "#     단, 이때 뒤쪽 방향이 바다인 칸이라 뒤로 갈 수 없는 경우 움직임을 멈춤\n",
    "\n",
    "# 매뉴얼에 따라 캐릭터를 이동시킨 뒤, 캐릭터가 방문한 칸의 수를 출력하는 프로그램은 만드시오.\n",
    "\n",
    "# 입력조건\n",
    "# - 첫째 줄에 맵의 세로 크기 N과 가로크기 M을 공백으로 구분\n",
    "# - 둘째 줄에 게임 캐릭터가 있는 카의 좌표 (A, B)와 바라보는 방향 d가 서로 공백으로 구분해 주어짐.\n",
    "# - 방향 d의 값:\n",
    "#     0: 북\n",
    "#     1: 동\n",
    "#     2: 남\n",
    "#     3: 서\n",
    "# - 셋째 줄부터 맵이 육지인지 바다인지에 대한 정보가 주어짐. N개의 줄에 맵의 상태가 북쪽부터 남쪽 순서로 각 줄의 데이터는 서쪽부터 동쪽 순서로 주어짐.\n",
    "#     맵의 외각은 항상 바다\n",
    "#     0: 육지\n",
    "#     1: 바다"
   ]
  },
  {
   "cell_type": "code",
   "execution_count": 20,
   "id": "fcc53937",
   "metadata": {},
   "outputs": [
    {
     "name": "stdout",
     "output_type": "stream",
     "text": [
      "4 4\n",
      "1 1 0\n",
      "1 1 1 1\n",
      "1 0 0 1\n",
      "1 1 0 1\n",
      "1 1 1 1\n",
      "3\n"
     ]
    }
   ],
   "source": [
    "map_design=[]\n",
    "map_size = list(map(int, input().split()))\n",
    "x, y, s = list(map(int, input().split()))\n",
    "cnt = 1\n",
    "\n",
    "for i in range(map_size[1]):\n",
    "    map_design.append(list(map(int, input().split())))\n",
    "\n",
    "map_design[x][y] = 1\n",
    "\n",
    "dx = [-1, 0, 1, 0]\n",
    "dy = [0, 1, 0, -1]\n",
    "\n",
    "def turn_left():\n",
    "    global s\n",
    "    s -= 1\n",
    "    if s == -1:\n",
    "        s = 3\n",
    "\n",
    "turn_time = 0\n",
    "while True:\n",
    "    turn_left()\n",
    "    nx = x + dx[s]\n",
    "    ny = y + dy[s]\n",
    "    \n",
    "    if map_design[nx][ny] == 0:\n",
    "        map_design[nx][ny] = 1\n",
    "        x = nx\n",
    "        y = ny\n",
    "        cnt += 1\n",
    "        turn_time = 0\n",
    "        continue\n",
    "    else:\n",
    "        turn_time += 1\n",
    "    \n",
    "    if turn_time == 4:\n",
    "        nx = x - dx[s]\n",
    "        ny = y - dy[s]\n",
    "        \n",
    "        if map_design[nx][ny] == 0:\n",
    "            x = nx\n",
    "            y = ny\n",
    "        else:\n",
    "            break\n",
    "        turn_time = 0\n",
    "print(cnt)"
   ]
  },
  {
   "cell_type": "code",
   "execution_count": 21,
   "id": "2ca580ca",
   "metadata": {},
   "outputs": [
    {
     "data": {
      "text/plain": [
       "[[1, 1, 1, 1], [1, 1, 1, 1], [1, 1, 1, 1], [1, 1, 1, 1]]"
      ]
     },
     "execution_count": 21,
     "metadata": {},
     "output_type": "execute_result"
    }
   ],
   "source": []
  },
  {
   "cell_type": "markdown",
   "id": "9b4984d1",
   "metadata": {},
   "source": []
  },
  {
   "cell_type": "code",
   "execution_count": null,
   "id": "ac42b42f",
   "metadata": {},
   "outputs": [],
   "source": []
  }
 ],
 "metadata": {
  "kernelspec": {
   "display_name": "Python 3 (ipykernel)",
   "language": "python",
   "name": "python3"
  },
  "language_info": {
   "codemirror_mode": {
    "name": "ipython",
    "version": 3
   },
   "file_extension": ".py",
   "mimetype": "text/x-python",
   "name": "python",
   "nbconvert_exporter": "python",
   "pygments_lexer": "ipython3",
   "version": "3.9.7"
  }
 },
 "nbformat": 4,
 "nbformat_minor": 5
}
